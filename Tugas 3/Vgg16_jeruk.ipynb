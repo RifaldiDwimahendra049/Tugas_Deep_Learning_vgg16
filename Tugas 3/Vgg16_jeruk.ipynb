{
  "cells": [
    {
      "cell_type": "markdown",
      "metadata": {
        "id": "kJPzY7qXW2HO"
      },
      "source": [
        "Import Library"
      ]
    },
    {
      "cell_type": "code",
      "execution_count": 1,
      "metadata": {
        "id": "S_t7F9P1WUjv"
      },
      "outputs": [],
      "source": [
        "from google.colab import drive\n",
        "import keras,os\n",
        "import tensorflow as tf\n",
        "from tensorflow.keras.models import Sequential\n",
        "from tensorflow.keras import layers\n",
        "from tensorflow.keras.preprocessing.image import ImageDataGenerator\n",
        "from keras.optimizers import Adam\n",
        "import matplotlib.pyplot as plt\n",
        "import numpy as np"
      ]
    },
    {
      "cell_type": "markdown",
      "metadata": {
        "id": "pAYKB5tNW5K2"
      },
      "source": [
        "Load Data"
      ]
    },
    {
      "cell_type": "code",
      "execution_count": 2,
      "metadata": {
        "colab": {
          "base_uri": "https://localhost:8080/"
        },
        "id": "zGPF_-RbWlzC",
        "outputId": "c009540c-5966-43c4-d699-2abf222ca9e8"
      },
      "outputs": [
        {
          "output_type": "stream",
          "name": "stdout",
          "text": [
            "Mounted at /content/gdrive\n"
          ]
        }
      ],
      "source": [
        "drive.mount('/content/gdrive', force_remount=True)"
      ]
    },
    {
      "cell_type": "code",
      "execution_count": 3,
      "metadata": {
        "colab": {
          "base_uri": "https://localhost:8080/"
        },
        "id": "7efmk3g1WpWT",
        "outputId": "a1634079-b5e1-470a-b5f0-0188900d6c92"
      },
      "outputs": [
        {
          "output_type": "stream",
          "name": "stdout",
          "text": [
            "/content/gdrive/MyDrive/Datasets/jeruk\n"
          ]
        }
      ],
      "source": [
        "%cd gdrive/MyDrive/Datasets/jeruk/"
      ]
    },
    {
      "cell_type": "code",
      "execution_count": 4,
      "metadata": {
        "colab": {
          "base_uri": "https://localhost:8080/"
        },
        "id": "2z60xjkrW0ef",
        "outputId": "527ba0ed-32af-4b0b-dc25-978f6f289cb0"
      },
      "outputs": [
        {
          "output_type": "stream",
          "name": "stdout",
          "text": [
            "\u001b[0m\u001b[01;34mjeruk.vgg16\u001b[0m/  jeruk.zip  \u001b[01;34mtest\u001b[0m/  \u001b[01;34mtrain\u001b[0m/  \u001b[01;34mvgg16_jeruk\u001b[0m/\n"
          ]
        }
      ],
      "source": [
        "%ls"
      ]
    },
    {
      "cell_type": "markdown",
      "metadata": {
        "id": "q0RKwQH-XC8r"
      },
      "source": [
        "Preprocessing"
      ]
    },
    {
      "cell_type": "code",
      "execution_count": 5,
      "metadata": {
        "colab": {
          "base_uri": "https://localhost:8080/"
        },
        "id": "irgzR259XNWr",
        "outputId": "a6c7805f-4338-4967-9847-1499dab62595"
      },
      "outputs": [
        {
          "output_type": "stream",
          "name": "stdout",
          "text": [
            "Found 1200 images belonging to 2 classes.\n",
            "Found 300 images belonging to 2 classes.\n"
          ]
        }
      ],
      "source": [
        "trdata = ImageDataGenerator()\n",
        "traindata = trdata.flow_from_directory(directory=\"train\", target_size=(224, 224), batch_size=32)\n",
        "\n",
        "tsdata = ImageDataGenerator()\n",
        "testdata = tsdata.flow_from_directory(directory=\"test\", target_size=(224,224))"
      ]
    },
    {
      "cell_type": "markdown",
      "metadata": {
        "id": "5u5A1Qc-YCUf"
      },
      "source": [
        "Membangun model vgg16"
      ]
    },
    {
      "cell_type": "code",
      "execution_count": 6,
      "metadata": {
        "id": "KBwX2T62XXI1"
      },
      "outputs": [],
      "source": [
        "model = tf.keras.Sequential([\n",
        "    \n",
        "    layers.Conv2D(input_shape=(224,224,3),filters=64,kernel_size=(3,3),padding=\"same\", activation=\"relu\", name=\"conv1\"),\n",
        "    layers.Conv2D(filters=64,kernel_size=(3,3),padding=\"same\", activation=\"relu\", name=\"conv2\"),\n",
        "    layers.MaxPool2D(pool_size=(2,2),strides=(2,2), name =\"pool1\"),\n",
        "\n",
        "    layers.Conv2D(filters=128, kernel_size=(3,3), padding=\"same\", activation=\"relu\", name=\"conv3\"),\n",
        "    layers.Conv2D(filters=128, kernel_size=(3,3), padding=\"same\", activation=\"relu\", name=\"conv4\"),\n",
        "    layers.MaxPool2D(pool_size=(2,2),strides=(2,2), name=\"pool2\"),\n",
        "\n",
        "    layers.Conv2D(filters=256, kernel_size=(3,3), padding=\"same\", activation=\"relu\", name=\"conv5\"),\n",
        "    layers.Conv2D(filters=256, kernel_size=(3,3), padding=\"same\", activation=\"relu\", name=\"conv6\"),\n",
        "    layers.Conv2D(filters=256, kernel_size=(3,3), padding=\"same\", activation=\"relu\", name=\"conv7\"),\n",
        "    layers.MaxPool2D(pool_size=(2,2),strides=(2,2), name=\"pool3\"),\n",
        "\n",
        "    layers.Conv2D(filters=512, kernel_size=(3,3), padding=\"same\", activation=\"relu\", name=\"conv8\"),\n",
        "    layers.Conv2D(filters=512, kernel_size=(3,3), padding=\"same\", activation=\"relu\", name=\"conv9\"),\n",
        "    layers.Conv2D(filters=512, kernel_size=(3,3), padding=\"same\", activation=\"relu\", name=\"conv10\"),\n",
        "    layers.MaxPool2D(pool_size=(2,2),strides=(2,2), name=\"pool4\"),\n",
        "\n",
        "    layers.Conv2D(filters=512, kernel_size=(3,3), padding=\"same\", activation=\"relu\", name=\"conv11\"),\n",
        "    layers.Conv2D(filters=512, kernel_size=(3,3), padding=\"same\", activation=\"relu\", name=\"conv12\"),\n",
        "    layers.Conv2D(filters=512, kernel_size=(3,3), padding=\"same\", activation=\"relu\", name=\"conv13\"),\n",
        "    layers.MaxPool2D(pool_size=(2,2),strides=(2,2), name=\"pool5\"),\n",
        "\n",
        "    layers.Flatten(name=\"flatten\"),\n",
        "\n",
        "    layers.Dense(units=4096, activation=\"relu\", name=\"fc1\"),\n",
        "    layers.Dense(units=4096, activation=\"relu\", name=\"fc2\"),\n",
        "    layers.Dense(units=2, activation=\"softmax\", name=\"output\",)\n",
        "])"
      ]
    },
    {
      "cell_type": "code",
      "execution_count": 7,
      "metadata": {
        "id": "WooBDb2uYXL7"
      },
      "outputs": [],
      "source": [
        "opt = Adam(learning_rate=0.001)\n",
        "model.compile(optimizer=opt, loss=keras.losses.categorical_crossentropy, metrics=['accuracy'])"
      ]
    },
    {
      "cell_type": "code",
      "execution_count": 8,
      "metadata": {
        "id": "k1FB5nVzYPpE",
        "colab": {
          "base_uri": "https://localhost:8080/"
        },
        "outputId": "353377c4-e2a4-4535-a2d4-ec0e94d67b24"
      },
      "outputs": [
        {
          "output_type": "stream",
          "name": "stdout",
          "text": [
            "Model: \"sequential\"\n",
            "_________________________________________________________________\n",
            " Layer (type)                Output Shape              Param #   \n",
            "=================================================================\n",
            " conv1 (Conv2D)              (None, 224, 224, 64)      1792      \n",
            "                                                                 \n",
            " conv2 (Conv2D)              (None, 224, 224, 64)      36928     \n",
            "                                                                 \n",
            " pool1 (MaxPooling2D)        (None, 112, 112, 64)      0         \n",
            "                                                                 \n",
            " conv3 (Conv2D)              (None, 112, 112, 128)     73856     \n",
            "                                                                 \n",
            " conv4 (Conv2D)              (None, 112, 112, 128)     147584    \n",
            "                                                                 \n",
            " pool2 (MaxPooling2D)        (None, 56, 56, 128)       0         \n",
            "                                                                 \n",
            " conv5 (Conv2D)              (None, 56, 56, 256)       295168    \n",
            "                                                                 \n",
            " conv6 (Conv2D)              (None, 56, 56, 256)       590080    \n",
            "                                                                 \n",
            " conv7 (Conv2D)              (None, 56, 56, 256)       590080    \n",
            "                                                                 \n",
            " pool3 (MaxPooling2D)        (None, 28, 28, 256)       0         \n",
            "                                                                 \n",
            " conv8 (Conv2D)              (None, 28, 28, 512)       1180160   \n",
            "                                                                 \n",
            " conv9 (Conv2D)              (None, 28, 28, 512)       2359808   \n",
            "                                                                 \n",
            " conv10 (Conv2D)             (None, 28, 28, 512)       2359808   \n",
            "                                                                 \n",
            " pool4 (MaxPooling2D)        (None, 14, 14, 512)       0         \n",
            "                                                                 \n",
            " conv11 (Conv2D)             (None, 14, 14, 512)       2359808   \n",
            "                                                                 \n",
            " conv12 (Conv2D)             (None, 14, 14, 512)       2359808   \n",
            "                                                                 \n",
            " conv13 (Conv2D)             (None, 14, 14, 512)       2359808   \n",
            "                                                                 \n",
            " pool5 (MaxPooling2D)        (None, 7, 7, 512)         0         \n",
            "                                                                 \n",
            " flatten (Flatten)           (None, 25088)             0         \n",
            "                                                                 \n",
            " fc1 (Dense)                 (None, 4096)              102764544 \n",
            "                                                                 \n",
            " fc2 (Dense)                 (None, 4096)              16781312  \n",
            "                                                                 \n",
            " output (Dense)              (None, 2)                 8194      \n",
            "                                                                 \n",
            "=================================================================\n",
            "Total params: 134,268,738\n",
            "Trainable params: 134,268,738\n",
            "Non-trainable params: 0\n",
            "_________________________________________________________________\n"
          ]
        }
      ],
      "source": [
        "model.summary()"
      ]
    },
    {
      "cell_type": "markdown",
      "metadata": {
        "id": "LyBcAwOXZSJx"
      },
      "source": [
        "Melatih dan menyimpan hasil train terbaik"
      ]
    },
    {
      "cell_type": "code",
      "execution_count": 9,
      "metadata": {
        "id": "V0erBWniY45Q"
      },
      "outputs": [],
      "source": [
        "from keras.callbacks import ModelCheckpoint, EarlyStopping\n",
        "\n",
        "checkpoint = ModelCheckpoint(\"vgg16_jeruk.h5\",monitor='val_accuracy', verbose=1, save_best_only=True,save_weights_only=False, save_freq='epoch') # simpan setiap epoch\n",
        "early = EarlyStopping(monitor='val_accuracy',min_delta=0, patience=10,verbose=1)"
      ]
    },
    {
      "cell_type": "code",
      "source": [
        "history = model.fit(traindata, steps_per_epoch=10, validation_data=testdata, validation_steps=10, epochs=50, callbacks=[checkpoint, early])"
      ],
      "metadata": {
        "colab": {
          "base_uri": "https://localhost:8080/"
        },
        "id": "1v5-D-RRu_I3",
        "outputId": "55d04aa7-220c-4df1-9d28-eb0955258ac9"
      },
      "execution_count": 10,
      "outputs": [
        {
          "output_type": "stream",
          "name": "stdout",
          "text": [
            "Epoch 1/50\n",
            "10/10 [==============================] - ETA: 0s - loss: 873.1725 - accuracy: 0.5312\n",
            "Epoch 1: val_accuracy improved from -inf to 0.50000, saving model to vgg16_jeruk.h5\n",
            "10/10 [==============================] - 122s 10s/step - loss: 873.1725 - accuracy: 0.5312 - val_loss: 0.6906 - val_accuracy: 0.5000\n",
            "Epoch 2/50\n",
            "10/10 [==============================] - ETA: 0s - loss: 0.7132 - accuracy: 0.5469\n",
            "Epoch 2: val_accuracy did not improve from 0.50000\n",
            "10/10 [==============================] - 66s 7s/step - loss: 0.7132 - accuracy: 0.5469 - val_loss: 1.2239 - val_accuracy: 0.5000\n",
            "Epoch 3/50\n",
            "10/10 [==============================] - ETA: 0s - loss: 0.7135 - accuracy: 0.4969\n",
            "Epoch 3: val_accuracy did not improve from 0.50000\n",
            "10/10 [==============================] - 47s 5s/step - loss: 0.7135 - accuracy: 0.4969 - val_loss: 0.7173 - val_accuracy: 0.4933\n",
            "Epoch 4/50\n",
            "10/10 [==============================] - ETA: 0s - loss: 0.6706 - accuracy: 0.6094\n",
            "Epoch 4: val_accuracy improved from 0.50000 to 0.51000, saving model to vgg16_jeruk.h5\n",
            "10/10 [==============================] - 65s 7s/step - loss: 0.6706 - accuracy: 0.6094 - val_loss: 0.7616 - val_accuracy: 0.5100\n",
            "Epoch 5/50\n",
            "10/10 [==============================] - ETA: 0s - loss: 0.6895 - accuracy: 0.6281\n",
            "Epoch 5: val_accuracy improved from 0.51000 to 0.51667, saving model to vgg16_jeruk.h5\n",
            "10/10 [==============================] - 37s 4s/step - loss: 0.6895 - accuracy: 0.6281 - val_loss: 0.6919 - val_accuracy: 0.5167\n",
            "Epoch 6/50\n",
            "10/10 [==============================] - ETA: 0s - loss: 0.5630 - accuracy: 0.7000\n",
            "Epoch 6: val_accuracy improved from 0.51667 to 0.52667, saving model to vgg16_jeruk.h5\n",
            "10/10 [==============================] - 40s 4s/step - loss: 0.5630 - accuracy: 0.7000 - val_loss: 0.6899 - val_accuracy: 0.5267\n",
            "Epoch 7/50\n",
            "10/10 [==============================] - ETA: 0s - loss: 0.5826 - accuracy: 0.7375\n",
            "Epoch 7: val_accuracy did not improve from 0.52667\n",
            "10/10 [==============================] - 19s 2s/step - loss: 0.5826 - accuracy: 0.7375 - val_loss: 0.6922 - val_accuracy: 0.5167\n",
            "Epoch 8/50\n",
            "10/10 [==============================] - ETA: 0s - loss: 0.5689 - accuracy: 0.7219\n",
            "Epoch 8: val_accuracy did not improve from 0.52667\n",
            "10/10 [==============================] - 15s 2s/step - loss: 0.5689 - accuracy: 0.7219 - val_loss: 1.5741 - val_accuracy: 0.5067\n",
            "Epoch 9/50\n",
            "10/10 [==============================] - ETA: 0s - loss: 0.6913 - accuracy: 0.7094\n",
            "Epoch 9: val_accuracy did not improve from 0.52667\n",
            "10/10 [==============================] - 11s 1s/step - loss: 0.6913 - accuracy: 0.7094 - val_loss: 0.6906 - val_accuracy: 0.5200\n",
            "Epoch 10/50\n",
            "10/10 [==============================] - ETA: 0s - loss: 0.5448 - accuracy: 0.6531\n",
            "Epoch 10: val_accuracy did not improve from 0.52667\n",
            "10/10 [==============================] - 11s 1s/step - loss: 0.5448 - accuracy: 0.6531 - val_loss: 0.7050 - val_accuracy: 0.5000\n",
            "Epoch 11/50\n",
            "10/10 [==============================] - ETA: 0s - loss: 0.4412 - accuracy: 0.7632\n",
            "Epoch 11: val_accuracy improved from 0.52667 to 0.93333, saving model to vgg16_jeruk.h5\n",
            "10/10 [==============================] - 41s 4s/step - loss: 0.4412 - accuracy: 0.7632 - val_loss: 0.3279 - val_accuracy: 0.9333\n",
            "Epoch 12/50\n",
            "10/10 [==============================] - ETA: 0s - loss: 0.1953 - accuracy: 0.9344\n",
            "Epoch 12: val_accuracy improved from 0.93333 to 0.97333, saving model to vgg16_jeruk.h5\n",
            "10/10 [==============================] - 18s 2s/step - loss: 0.1953 - accuracy: 0.9344 - val_loss: 0.0568 - val_accuracy: 0.9733\n",
            "Epoch 13/50\n",
            "10/10 [==============================] - ETA: 0s - loss: 0.7997 - accuracy: 0.7781\n",
            "Epoch 13: val_accuracy did not improve from 0.97333\n",
            "10/10 [==============================] - 7s 642ms/step - loss: 0.7997 - accuracy: 0.7781 - val_loss: 0.6874 - val_accuracy: 0.5000\n",
            "Epoch 14/50\n",
            "10/10 [==============================] - ETA: 0s - loss: 0.6386 - accuracy: 0.5987\n",
            "Epoch 14: val_accuracy did not improve from 0.97333\n",
            "10/10 [==============================] - 9s 964ms/step - loss: 0.6386 - accuracy: 0.5987 - val_loss: 0.6916 - val_accuracy: 0.5000\n",
            "Epoch 15/50\n",
            "10/10 [==============================] - ETA: 0s - loss: 0.5851 - accuracy: 0.6719\n",
            "Epoch 15: val_accuracy did not improve from 0.97333\n",
            "10/10 [==============================] - 7s 667ms/step - loss: 0.5851 - accuracy: 0.6719 - val_loss: 0.6684 - val_accuracy: 0.5267\n",
            "Epoch 16/50\n",
            "10/10 [==============================] - ETA: 0s - loss: 0.5143 - accuracy: 0.7688\n",
            "Epoch 16: val_accuracy did not improve from 0.97333\n",
            "10/10 [==============================] - 8s 709ms/step - loss: 0.5143 - accuracy: 0.7688 - val_loss: 0.7352 - val_accuracy: 0.5300\n",
            "Epoch 17/50\n",
            "10/10 [==============================] - ETA: 0s - loss: 0.7618 - accuracy: 0.5724\n",
            "Epoch 17: val_accuracy did not improve from 0.97333\n",
            "10/10 [==============================] - 6s 637ms/step - loss: 0.7618 - accuracy: 0.5724 - val_loss: 0.7096 - val_accuracy: 0.4433\n",
            "Epoch 18/50\n",
            "10/10 [==============================] - ETA: 0s - loss: 0.6748 - accuracy: 0.6656\n",
            "Epoch 18: val_accuracy did not improve from 0.97333\n",
            "10/10 [==============================] - 7s 686ms/step - loss: 0.6748 - accuracy: 0.6656 - val_loss: 0.7000 - val_accuracy: 0.5367\n",
            "Epoch 19/50\n",
            "10/10 [==============================] - ETA: 0s - loss: 0.5607 - accuracy: 0.6969\n",
            "Epoch 19: val_accuracy did not improve from 0.97333\n",
            "10/10 [==============================] - 7s 684ms/step - loss: 0.5607 - accuracy: 0.6969 - val_loss: 0.7552 - val_accuracy: 0.4633\n",
            "Epoch 20/50\n",
            "10/10 [==============================] - ETA: 0s - loss: 0.5806 - accuracy: 0.6969\n",
            "Epoch 20: val_accuracy did not improve from 0.97333\n",
            "10/10 [==============================] - 6s 635ms/step - loss: 0.5806 - accuracy: 0.6969 - val_loss: 0.7492 - val_accuracy: 0.5000\n",
            "Epoch 21/50\n",
            "10/10 [==============================] - ETA: 0s - loss: 0.5883 - accuracy: 0.6500\n",
            "Epoch 21: val_accuracy did not improve from 0.97333\n",
            "10/10 [==============================] - 7s 668ms/step - loss: 0.5883 - accuracy: 0.6500 - val_loss: 0.7281 - val_accuracy: 0.5000\n",
            "Epoch 22/50\n",
            "10/10 [==============================] - ETA: 0s - loss: 0.5088 - accuracy: 0.7094\n",
            "Epoch 22: val_accuracy did not improve from 0.97333\n",
            "10/10 [==============================] - 7s 685ms/step - loss: 0.5088 - accuracy: 0.7094 - val_loss: 0.7452 - val_accuracy: 0.5000\n",
            "Epoch 22: early stopping\n"
          ]
        }
      ]
    },
    {
      "cell_type": "markdown",
      "metadata": {
        "id": "l1AYweIBZjVa"
      },
      "source": [
        "Evaluasi Model"
      ]
    },
    {
      "cell_type": "code",
      "execution_count": 11,
      "metadata": {
        "id": "MKU-oIDxZiTV",
        "colab": {
          "base_uri": "https://localhost:8080/",
          "height": 472
        },
        "outputId": "c00ee224-b344-4f7c-c78a-421f9c96d905"
      },
      "outputs": [
        {
          "output_type": "display_data",
          "data": {
            "text/plain": [
              "<Figure size 640x480 with 1 Axes>"
            ],
            "image/png": "[encoded data removed]"
          },
          "metadata": {}
        }
      ],
      "source": [
        "plt.plot(history.history['accuracy'])\n",
        "plt.plot(history.history['val_accuracy'])\n",
        "plt.title('Model accuracy')\n",
        "plt.ylabel('Accuracy')\n",
        "plt.xlabel('Epoch')\n",
        "plt.legend(['Train', 'Validation'], loc='upper left')\n",
        "plt.show()"
      ]
    }
  ],
  "metadata": {
    "colab": {
      "provenance": [],
      "gpuType": "T4"
    },
    "kernelspec": {
      "display_name": "Python 3",
      "name": "python3"
    },
    "language_info": {
      "name": "python"
    },
    "accelerator": "GPU",
    "gpuClass": "standard"
  },
  "nbformat": 4,
  "nbformat_minor": 0
}