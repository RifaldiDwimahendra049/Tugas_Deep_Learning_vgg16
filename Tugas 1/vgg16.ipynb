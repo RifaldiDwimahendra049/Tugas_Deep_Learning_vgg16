{
  "nbformat": 4,
  "nbformat_minor": 0,
  "metadata": {
    "colab": {
      "provenance": [],
      "gpuType": "T4"
    },
    "kernelspec": {
      "name": "python3",
      "display_name": "Python 3"
    },
    "language_info": {
      "name": "python"
    },
    "accelerator": "GPU",
    "gpuClass": "standard"
  },
  "cells": [
    {
      "cell_type": "code",
      "execution_count": null,
      "metadata": {
        "id": "KqCdvIcgPpE6"
      },
      "outputs": [],
      "source": [
        "from google.colab import drive\n",
        "import keras,os\n",
        "import tensorflow as tf\n",
        "from tensorflow.keras.models import Sequential\n",
        "from tensorflow.keras import layers\n",
        "from tensorflow.keras.preprocessing.image import ImageDataGenerator\n",
        "from keras.optimizers import Adam\n",
        "import matplotlib.pyplot as plt\n",
        "import numpy as np"
      ]
    },
    {
      "cell_type": "code",
      "source": [
        "drive.mount('/content/gdrive', force_remount=True)"
      ],
      "metadata": {
        "colab": {
          "base_uri": "https://localhost:8080/"
        },
        "id": "juOER5UcPtWo",
        "outputId": "edbcbf6d-4e8e-4377-b853-8a70c0521734"
      },
      "execution_count": null,
      "outputs": [
        {
          "output_type": "stream",
          "name": "stdout",
          "text": [
            "Mounted at /content/gdrive\n"
          ]
        }
      ]
    },
    {
      "cell_type": "code",
      "source": [
        "%cd gdrive/MyDrive/DeepLearning/"
      ],
      "metadata": {
        "colab": {
          "base_uri": "https://localhost:8080/"
        },
        "id": "_wRIA_BTP2Ft",
        "outputId": "a7bcbf44-8035-4cd6-f60d-38ddc69124e8"
      },
      "execution_count": null,
      "outputs": [
        {
          "output_type": "stream",
          "name": "stdout",
          "text": [
            "/content/gdrive/MyDrive/DeepLearning\n"
          ]
        }
      ]
    },
    {
      "cell_type": "code",
      "source": [
        "%ls"
      ],
      "metadata": {
        "colab": {
          "base_uri": "https://localhost:8080/"
        },
        "id": "PcfVeLHcQa1L",
        "outputId": "3833148f-c39e-404c-8151-0b5a8e5ca437"
      },
      "execution_count": null,
      "outputs": [
        {
          "output_type": "stream",
          "name": "stdout",
          "text": [
            "mobil_x_motor.zip  \u001b[0m\u001b[01;34mtest\u001b[0m/  \u001b[01;34mtrain\u001b[0m/  vgg16.h5\n"
          ]
        }
      ]
    },
    {
      "cell_type": "code",
      "source": [
        "trdata = ImageDataGenerator()\n",
        "traindata = trdata.flow_from_directory(directory=\"train\",target_size=(224,224))\n",
        "tsdata = ImageDataGenerator()\n",
        "testdata = tsdata.flow_from_directory(directory=\"test\", target_size=(224,224))"
      ],
      "metadata": {
        "colab": {
          "base_uri": "https://localhost:8080/"
        },
        "id": "wm5imW-bRVbT",
        "outputId": "36a40ed7-4ec3-4e60-bfc7-bc15dada86e4"
      },
      "execution_count": null,
      "outputs": [
        {
          "output_type": "stream",
          "name": "stdout",
          "text": [
            "Found 1199 images belonging to 2 classes.\n",
            "Found 300 images belonging to 2 classes.\n"
          ]
        }
      ]
    },
    {
      "cell_type": "code",
      "source": [
        "from PIL import Image\n",
        "import os\n",
        "\n",
        "# Mendapatkan daftar file dari direktori gambar\n",
        "image_dir = 'train/mobil'\n",
        "file_list = os.listdir(image_dir)\n",
        "\n",
        "# Mengubah semua gambar menjadi mode RGBA\n",
        "for file_name in file_list:\n",
        "    # Membuka gambar\n",
        "    image_path = os.path.join(image_dir, file_name)\n",
        "    image = Image.open(image_path)\n",
        "\n",
        "    # Pengecekan mode gambar\n",
        "    if image.mode == 'P':\n",
        "        image = image.convert('RGBA')\n",
        "        alpha = image.split()[-1]\n",
        "        image.putalpha(alpha)\n",
        "        image.save(image_path)\n",
        "\n",
        "# Mendapatkan daftar file dari direktori gambar\n",
        "image_dir = 'train/motor'\n",
        "file_list = os.listdir(image_dir)\n",
        "\n",
        "# Mengubah semua gambar menjadi mode RGBA\n",
        "for file_name in file_list:\n",
        "    # Membuka gambar\n",
        "    image_path = os.path.join(image_dir, file_name)\n",
        "    image = Image.open(image_path)\n",
        "\n",
        "    # Pengecekan mode gambar\n",
        "    if image.mode == 'P':\n",
        "        image = image.convert('RGBA')\n",
        "        alpha = image.split()[-1]\n",
        "        image.putalpha(alpha)\n",
        "        image.save(image_path)\n",
        "\n",
        "# Mendapatkan daftar file dari direktori gambar\n",
        "image_dir = 'test/mobil'\n",
        "file_list = os.listdir(image_dir)\n",
        "\n",
        "# Mengubah semua gambar menjadi mode RGBA\n",
        "for file_name in file_list:\n",
        "    # Membuka gambar\n",
        "    image_path = os.path.join(image_dir, file_name)\n",
        "    image = Image.open(image_path)\n",
        "\n",
        "    # Pengecekan mode gambar\n",
        "    if image.mode == 'P':\n",
        "        image = image.convert('RGBA')\n",
        "        alpha = image.split()[-1]\n",
        "        image.putalpha(alpha)\n",
        "        image.save(image_path)\n",
        "\n",
        "# Mendapatkan daftar file dari direktori gambar\n",
        "image_dir = 'test/motor'\n",
        "file_list = os.listdir(image_dir)\n",
        "\n",
        "# Mengubah semua gambar menjadi mode RGBA\n",
        "for file_name in file_list:\n",
        "    # Membuka gambar\n",
        "    image_path = os.path.join(image_dir, file_name)\n",
        "    image = Image.open(image_path)\n",
        "\n",
        "    # Pengecekan mode gambar\n",
        "    if image.mode == 'P':\n",
        "        image = image.convert('RGBA')\n",
        "        alpha = image.split()[-1]\n",
        "        image.putalpha(alpha)\n",
        "        image.save(image_path)"
      ],
      "metadata": {
        "id": "et9ZY2s5j-YV"
      },
      "execution_count": null,
      "outputs": []
    },
    {
      "cell_type": "code",
      "source": [
        "model = tf.keras.Sequential([\n",
        "    \n",
        "    layers.Conv2D(input_shape=(224,224,3),filters=64,kernel_size=(3,3),padding=\"same\", activation=\"relu\"),\n",
        "    layers.Conv2D(filters=64,kernel_size=(3,3),padding=\"same\", activation=\"relu\"),\n",
        "    layers.MaxPool2D(pool_size=(2,2),strides=(2,2)),\n",
        "\n",
        "    layers.Conv2D(filters=128, kernel_size=(3,3), padding=\"same\", activation=\"relu\"),\n",
        "    layers.Conv2D(filters=128, kernel_size=(3,3), padding=\"same\", activation=\"relu\"),\n",
        "    layers.MaxPool2D(pool_size=(2,2),strides=(2,2)),\n",
        "\n",
        "    layers.Conv2D(filters=256, kernel_size=(3,3), padding=\"same\", activation=\"relu\"),\n",
        "    layers.Conv2D(filters=256, kernel_size=(3,3), padding=\"same\", activation=\"relu\"),\n",
        "    layers.Conv2D(filters=256, kernel_size=(3,3), padding=\"same\", activation=\"relu\"),\n",
        "    layers.MaxPool2D(pool_size=(2,2),strides=(2,2)),\n",
        "\n",
        "    layers.Conv2D(filters=512, kernel_size=(3,3), padding=\"same\", activation=\"relu\"),\n",
        "    layers.Conv2D(filters=512, kernel_size=(3,3), padding=\"same\", activation=\"relu\"),\n",
        "    layers.Conv2D(filters=512, kernel_size=(3,3), padding=\"same\", activation=\"relu\"),\n",
        "    layers.MaxPool2D(pool_size=(2,2),strides=(2,2)),\n",
        "\n",
        "    layers.Conv2D(filters=512, kernel_size=(3,3), padding=\"same\", activation=\"relu\"),\n",
        "    layers.Conv2D(filters=512, kernel_size=(3,3), padding=\"same\", activation=\"relu\"),\n",
        "    layers.Conv2D(filters=512, kernel_size=(3,3), padding=\"same\", activation=\"relu\"),\n",
        "    layers.MaxPool2D(pool_size=(2,2),strides=(2,2)),\n",
        "\n",
        "    layers.Flatten(),\n",
        "\n",
        "    layers.Dense(units=4096, activation=\"relu\"),\n",
        "    layers.Dense(units=4096, activation=\"relu\"),\n",
        "    layers.Dense(units=2, activation=\"softmax\")\n",
        "])"
      ],
      "metadata": {
        "id": "mG5Kr_FBSI-D"
      },
      "execution_count": null,
      "outputs": []
    },
    {
      "cell_type": "code",
      "source": [
        "opt = Adam(learning_rate=0.001)\n",
        "model.compile(optimizer=opt, loss=keras.losses.categorical_crossentropy, metrics=['accuracy'])"
      ],
      "metadata": {
        "id": "-RtHQfamSXSc"
      },
      "execution_count": null,
      "outputs": []
    },
    {
      "cell_type": "code",
      "source": [
        "from keras.callbacks import ModelCheckpoint, EarlyStopping\n",
        "\n",
        "checkpoint = ModelCheckpoint(\"vgg16.h5\",monitor='val_accuracy', verbose=1, save_best_only=True,save_weights_only=False, save_freq='epoch') # simpan setiap epoch\n",
        "early = EarlyStopping(monitor='val_accuracy',min_delta=0, patience=20,verbose=1)"
      ],
      "metadata": {
        "id": "GrXWmLD0ShAU"
      },
      "execution_count": null,
      "outputs": []
    },
    {
      "cell_type": "code",
      "source": [
        "history = model.fit(traindata, steps_per_epoch=10, validation_data=testdata, validation_steps=10, epochs=50, callbacks=[checkpoint, early])"
      ],
      "metadata": {
        "colab": {
          "base_uri": "https://localhost:8080/"
        },
        "id": "QrBFs93FTCA9",
        "outputId": "b554ea24-df7c-44bf-9d57-220db0bfc15b"
      },
      "execution_count": null,
      "outputs": [
        {
          "output_type": "stream",
          "name": "stdout",
          "text": [
            "Epoch 1/50\n",
            "10/10 [==============================] - ETA: 0s - loss: 941.4526 - accuracy: 0.4531 \n",
            "Epoch 1: val_accuracy improved from -inf to 0.50000, saving model to vgg16.h5\n",
            "10/10 [==============================] - 49s 4s/step - loss: 941.4526 - accuracy: 0.4531 - val_loss: 0.7053 - val_accuracy: 0.5000\n",
            "Epoch 2/50\n",
            "10/10 [==============================] - ETA: 0s - loss: 0.7284 - accuracy: 0.5469\n",
            "Epoch 2: val_accuracy did not improve from 0.50000\n",
            "10/10 [==============================] - 5s 544ms/step - loss: 0.7284 - accuracy: 0.5469 - val_loss: 0.6940 - val_accuracy: 0.5000\n",
            "Epoch 3/50\n",
            "10/10 [==============================] - ETA: 0s - loss: 0.6939 - accuracy: 0.4969\n",
            "Epoch 3: val_accuracy did not improve from 0.50000\n",
            "10/10 [==============================] - 6s 611ms/step - loss: 0.6939 - accuracy: 0.4969 - val_loss: 0.6973 - val_accuracy: 0.5000\n",
            "Epoch 4/50\n",
            "10/10 [==============================] - ETA: 0s - loss: 0.6943 - accuracy: 0.5375\n",
            "Epoch 4: val_accuracy did not improve from 0.50000\n",
            "10/10 [==============================] - 6s 560ms/step - loss: 0.6943 - accuracy: 0.5375 - val_loss: 0.6934 - val_accuracy: 0.5000\n",
            "Epoch 5/50\n",
            "10/10 [==============================] - ETA: 0s - loss: 0.6972 - accuracy: 0.4656\n",
            "Epoch 5: val_accuracy did not improve from 0.50000\n",
            "10/10 [==============================] - 7s 680ms/step - loss: 0.6972 - accuracy: 0.4656 - val_loss: 0.6968 - val_accuracy: 0.5000\n",
            "Epoch 6/50\n",
            "10/10 [==============================] - ETA: 0s - loss: 0.7072 - accuracy: 0.4938\n",
            "Epoch 6: val_accuracy did not improve from 0.50000\n",
            "10/10 [==============================] - 6s 551ms/step - loss: 0.7072 - accuracy: 0.4938 - val_loss: 0.6935 - val_accuracy: 0.5000\n",
            "Epoch 7/50\n",
            "10/10 [==============================] - ETA: 0s - loss: 0.7003 - accuracy: 0.4752\n",
            "Epoch 7: val_accuracy did not improve from 0.50000\n",
            "10/10 [==============================] - 12s 1s/step - loss: 0.7003 - accuracy: 0.4752 - val_loss: 0.6933 - val_accuracy: 0.5000\n",
            "Epoch 8/50\n",
            "10/10 [==============================] - ETA: 0s - loss: 0.6929 - accuracy: 0.5156\n",
            "Epoch 8: val_accuracy did not improve from 0.50000\n",
            "10/10 [==============================] - 6s 586ms/step - loss: 0.6929 - accuracy: 0.5156 - val_loss: 0.7044 - val_accuracy: 0.5000\n",
            "Epoch 9/50\n",
            "10/10 [==============================] - ETA: 0s - loss: 0.7066 - accuracy: 0.4844\n",
            "Epoch 9: val_accuracy did not improve from 0.50000\n",
            "10/10 [==============================] - 7s 685ms/step - loss: 0.7066 - accuracy: 0.4844 - val_loss: 0.6931 - val_accuracy: 0.5000\n",
            "Epoch 10/50\n",
            "10/10 [==============================] - ETA: 0s - loss: 0.6933 - accuracy: 0.5215\n",
            "Epoch 10: val_accuracy did not improve from 0.50000\n",
            "10/10 [==============================] - 5s 530ms/step - loss: 0.6933 - accuracy: 0.5215 - val_loss: 0.6932 - val_accuracy: 0.5000\n",
            "Epoch 11/50\n",
            "10/10 [==============================] - ETA: 0s - loss: 0.6934 - accuracy: 0.5250\n",
            "Epoch 11: val_accuracy improved from 0.50000 to 0.54667, saving model to vgg16.h5\n",
            "10/10 [==============================] - 25s 3s/step - loss: 0.6934 - accuracy: 0.5250 - val_loss: 0.6926 - val_accuracy: 0.5467\n",
            "Epoch 12/50\n",
            "10/10 [==============================] - ETA: 0s - loss: 0.6910 - accuracy: 0.5250\n",
            "Epoch 12: val_accuracy improved from 0.54667 to 0.70000, saving model to vgg16.h5\n",
            "10/10 [==============================] - 19s 2s/step - loss: 0.6910 - accuracy: 0.5250 - val_loss: 0.6845 - val_accuracy: 0.7000\n",
            "Epoch 13/50\n",
            "10/10 [==============================] - ETA: 0s - loss: 0.6856 - accuracy: 0.5594\n",
            "Epoch 13: val_accuracy did not improve from 0.70000\n",
            "10/10 [==============================] - 6s 561ms/step - loss: 0.6856 - accuracy: 0.5594 - val_loss: 0.6967 - val_accuracy: 0.5000\n",
            "Epoch 14/50\n",
            "10/10 [==============================] - ETA: 0s - loss: 0.6934 - accuracy: 0.5182\n",
            "Epoch 14: val_accuracy did not improve from 0.70000\n",
            "10/10 [==============================] - 7s 670ms/step - loss: 0.6934 - accuracy: 0.5182 - val_loss: 0.6943 - val_accuracy: 0.5000\n",
            "Epoch 15/50\n",
            "10/10 [==============================] - ETA: 0s - loss: 0.6971 - accuracy: 0.4950\n",
            "Epoch 15: val_accuracy did not improve from 0.70000\n",
            "10/10 [==============================] - 6s 574ms/step - loss: 0.6971 - accuracy: 0.4950 - val_loss: 0.6928 - val_accuracy: 0.5000\n",
            "Epoch 16/50\n",
            "10/10 [==============================] - ETA: 0s - loss: 0.6935 - accuracy: 0.5050\n",
            "Epoch 16: val_accuracy did not improve from 0.70000\n",
            "10/10 [==============================] - 5s 572ms/step - loss: 0.6935 - accuracy: 0.5050 - val_loss: 0.6934 - val_accuracy: 0.5000\n",
            "Epoch 17/50\n",
            "10/10 [==============================] - ETA: 0s - loss: 0.6945 - accuracy: 0.4812\n",
            "Epoch 17: val_accuracy did not improve from 0.70000\n",
            "10/10 [==============================] - 7s 691ms/step - loss: 0.6945 - accuracy: 0.4812 - val_loss: 0.6934 - val_accuracy: 0.5000\n",
            "Epoch 18/50\n",
            "10/10 [==============================] - ETA: 0s - loss: 0.6945 - accuracy: 0.4917\n",
            "Epoch 18: val_accuracy did not improve from 0.70000\n",
            "10/10 [==============================] - 5s 542ms/step - loss: 0.6945 - accuracy: 0.4917 - val_loss: 0.6931 - val_accuracy: 0.5000\n",
            "Epoch 19/50\n",
            "10/10 [==============================] - ETA: 0s - loss: 0.6930 - accuracy: 0.5050\n",
            "Epoch 19: val_accuracy did not improve from 0.70000\n",
            "10/10 [==============================] - 5s 571ms/step - loss: 0.6930 - accuracy: 0.5050 - val_loss: 0.6926 - val_accuracy: 0.6233\n",
            "Epoch 20/50\n",
            "10/10 [==============================] - ETA: 0s - loss: 0.6948 - accuracy: 0.4950\n",
            "Epoch 20: val_accuracy did not improve from 0.70000\n",
            "10/10 [==============================] - 5s 533ms/step - loss: 0.6948 - accuracy: 0.4950 - val_loss: 0.6932 - val_accuracy: 0.5000\n",
            "Epoch 21/50\n",
            "10/10 [==============================] - ETA: 0s - loss: 0.6933 - accuracy: 0.4752\n",
            "Epoch 21: val_accuracy did not improve from 0.70000\n",
            "10/10 [==============================] - 5s 533ms/step - loss: 0.6933 - accuracy: 0.4752 - val_loss: 0.6931 - val_accuracy: 0.5000\n",
            "Epoch 22/50\n",
            "10/10 [==============================] - ETA: 0s - loss: 0.6932 - accuracy: 0.4917\n",
            "Epoch 22: val_accuracy did not improve from 0.70000\n",
            "10/10 [==============================] - 5s 541ms/step - loss: 0.6932 - accuracy: 0.4917 - val_loss: 0.6931 - val_accuracy: 0.5000\n",
            "Epoch 23/50\n",
            "10/10 [==============================] - ETA: 0s - loss: 0.6932 - accuracy: 0.4812\n",
            "Epoch 23: val_accuracy did not improve from 0.70000\n",
            "10/10 [==============================] - 7s 683ms/step - loss: 0.6932 - accuracy: 0.4812 - val_loss: 0.6931 - val_accuracy: 0.5000\n",
            "Epoch 24/50\n",
            "10/10 [==============================] - ETA: 0s - loss: 0.6932 - accuracy: 0.5000\n",
            "Epoch 24: val_accuracy did not improve from 0.70000\n",
            "10/10 [==============================] - 6s 558ms/step - loss: 0.6932 - accuracy: 0.5000 - val_loss: 0.6932 - val_accuracy: 0.5000\n",
            "Epoch 25/50\n",
            "10/10 [==============================] - ETA: 0s - loss: 0.6929 - accuracy: 0.5219\n",
            "Epoch 25: val_accuracy did not improve from 0.70000\n",
            "10/10 [==============================] - 6s 572ms/step - loss: 0.6929 - accuracy: 0.5219 - val_loss: 0.6932 - val_accuracy: 0.5000\n",
            "Epoch 26/50\n",
            "10/10 [==============================] - ETA: 0s - loss: 0.6934 - accuracy: 0.5083\n",
            "Epoch 26: val_accuracy did not improve from 0.70000\n",
            "10/10 [==============================] - 5s 540ms/step - loss: 0.6934 - accuracy: 0.5083 - val_loss: 0.6933 - val_accuracy: 0.5000\n",
            "Epoch 27/50\n",
            "10/10 [==============================] - ETA: 0s - loss: 0.6947 - accuracy: 0.4521\n",
            "Epoch 27: val_accuracy did not improve from 0.70000\n",
            "10/10 [==============================] - 5s 537ms/step - loss: 0.6947 - accuracy: 0.4521 - val_loss: 0.6932 - val_accuracy: 0.5000\n",
            "Epoch 28/50\n",
            "10/10 [==============================] - ETA: 0s - loss: 0.6933 - accuracy: 0.5000\n",
            "Epoch 28: val_accuracy did not improve from 0.70000\n",
            "10/10 [==============================] - 5s 552ms/step - loss: 0.6933 - accuracy: 0.5000 - val_loss: 0.6934 - val_accuracy: 0.4700\n",
            "Epoch 29/50\n",
            "10/10 [==============================] - ETA: 0s - loss: 0.6925 - accuracy: 0.5531\n",
            "Epoch 29: val_accuracy did not improve from 0.70000\n",
            "10/10 [==============================] - 6s 562ms/step - loss: 0.6925 - accuracy: 0.5531 - val_loss: 0.6931 - val_accuracy: 0.5000\n",
            "Epoch 30/50\n",
            "10/10 [==============================] - ETA: 0s - loss: 0.7222 - accuracy: 0.5344\n",
            "Epoch 30: val_accuracy did not improve from 0.70000\n",
            "10/10 [==============================] - 6s 557ms/step - loss: 0.7222 - accuracy: 0.5344 - val_loss: 0.6922 - val_accuracy: 0.5000\n",
            "Epoch 31/50\n",
            "10/10 [==============================] - ETA: 0s - loss: 0.7412 - accuracy: 0.4781\n",
            "Epoch 31: val_accuracy did not improve from 0.70000\n",
            "10/10 [==============================] - 7s 689ms/step - loss: 0.7412 - accuracy: 0.4781 - val_loss: 0.6964 - val_accuracy: 0.5067\n",
            "Epoch 32/50\n",
            "10/10 [==============================] - ETA: 0s - loss: 0.7200 - accuracy: 0.4125\n",
            "Epoch 32: val_accuracy did not improve from 0.70000\n",
            "10/10 [==============================] - 5s 529ms/step - loss: 0.7200 - accuracy: 0.4125 - val_loss: 0.6933 - val_accuracy: 0.5000\n",
            "Epoch 32: early stopping\n"
          ]
        }
      ]
    },
    {
      "cell_type": "code",
      "source": [
        "import matplotlib.pyplot as plt\n",
        "plt.plot(history.history['accuracy'])\n",
        "plt.plot(history.history['val_accuracy'])\n",
        "plt.title('Model accuracy')\n",
        "plt.ylabel('Accuracy')\n",
        "plt.xlabel('Epoch')\n",
        "plt.legend(['Train', 'Validation'], loc='upper left')\n",
        "plt.show()"
      ],
      "metadata": {
        "colab": {
          "base_uri": "https://localhost:8080/",
          "height": 472
        },
        "id": "XUeXPiF9TDKE",
        "outputId": "0141d95b-2106-45cf-c525-39ad51802f2a"
      },
      "execution_count": null,
      "outputs": [
        {
          "output_type": "display_data",
          "data": {
            "text/plain": [
              "<Figure size 640x480 with 1 Axes>"
            ],
            "image/png": "[encoded data removed]"
          },
          "metadata": {}
        }
      ]
    }
  ]
}